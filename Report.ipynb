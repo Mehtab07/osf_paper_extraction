{
 "cells": [
  {
   "cell_type": "markdown",
   "id": "9a424df5",
   "metadata": {},
   "source": [
    "\n",
    "# PDF Parsing and LLM Inference Report\n",
    "\n",
    "This notebook provides a performance and cost analysis of two different PDF parsing tools (Docling and Marker) and a customer parsing script\n",
    "\n",
    "## 1. Tools Evaluated\n",
    "- **Docling**: (https://github.com/docling-project/docling).\n",
    "- **Marker**: (https://github.com/VikParuchuri/marker)\n",
    "- **Custom Script**: PDF parsing using python package fitz\n",
    "\n",
    "## 2. Test Document\n",
    "- **Length**: 24 pages\n",
    "\n",
    "## 3. Results Summary\n",
    "| Tool     | Time Taken | Includes Images | Output Format |\n",
    "|----------|------------|------------------|----------------|\n",
    "| Docling  | ~2 minutes | No               | Markdown/Text  |\n",
    "| Marker   | ~70 seconds| Yes              | Markdown/Text  |\n",
    "| Custom Script   | ~2 seconds| No             | Markdown/Text  |\n",
    "\n",
    "## 4. Custom Script\n",
    "- A script was created to extract content from specific paper sections:\n",
    "\n",
    "    - \"Abstract\", \"Introduction\", \"Related Work\", \"Method\", \"Methods\",\n",
    "      \"Results\", \"Discussion\", \"Conclusion\", \"Conclusions\", \"References\"\n",
    "\n",
    "- This structured content was then passed to an LLM for further processing.\n",
    "\n",
    "## 5. OpenAI API Cost Overview\n",
    "| Content Scope      | Cost per Call |\n",
    "|--------------------|----------------|\n",
    "| Single Section     | $0.01          |\n",
    "| Full Markdown Paper| $0.05          |\n",
    "\n",
    "## 6. Final Thought\n",
    "Out of many pdf parsing tools, marker is so far the good one but it is taking much time when running on CPU, however GPU would might change the observation in a positive way\n",
    "\n"
   ]
  },
  {
   "cell_type": "markdown",
   "id": "a3bbef9b",
   "metadata": {},
   "source": []
  }
 ],
 "metadata": {
  "language_info": {
   "name": "python"
  }
 },
 "nbformat": 4,
 "nbformat_minor": 5
}
